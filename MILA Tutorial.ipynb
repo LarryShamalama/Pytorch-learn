{
 "cells": [
  {
   "cell_type": "code",
   "execution_count": 1,
   "metadata": {},
   "outputs": [],
   "source": [
    "import numpy as np\n",
    "import torch"
   ]
  },
  {
   "cell_type": "markdown",
   "metadata": {},
   "source": [
    "### Random Tensor\n",
    "Uniform distribution"
   ]
  },
  {
   "cell_type": "code",
   "execution_count": 20,
   "metadata": {},
   "outputs": [],
   "source": [
    "x = torch.Tensor(5, 3).uniform_(-1, 1)"
   ]
  },
  {
   "cell_type": "markdown",
   "metadata": {},
   "source": [
    "### Shape"
   ]
  },
  {
   "cell_type": "code",
   "execution_count": 23,
   "metadata": {},
   "outputs": [
    {
     "data": {
      "text/plain": [
       "torch.Size([5, 3])"
      ]
     },
     "execution_count": 23,
     "metadata": {},
     "output_type": "execute_result"
    }
   ],
   "source": [
    "x.size()"
   ]
  },
  {
   "cell_type": "code",
   "execution_count": 24,
   "metadata": {},
   "outputs": [
    {
     "data": {
      "text/plain": [
       "torch.Size([5, 3])"
      ]
     },
     "execution_count": 24,
     "metadata": {},
     "output_type": "execute_result"
    }
   ],
   "source": [
    "x.shape"
   ]
  },
  {
   "cell_type": "markdown",
   "metadata": {},
   "source": [
    "### Mathematical Operations"
   ]
  },
  {
   "cell_type": "code",
   "execution_count": 49,
   "metadata": {},
   "outputs": [
    {
     "ename": "ImportError",
     "evalue": "cannot import name 'normal'",
     "output_type": "error",
     "traceback": [
      "\u001b[0;31m---------------------------------------------------------------------------\u001b[0m",
      "\u001b[0;31mImportError\u001b[0m                               Traceback (most recent call last)",
      "\u001b[0;32m<ipython-input-49-db9bc824017c>\u001b[0m in \u001b[0;36m<module>\u001b[0;34m()\u001b[0m\n\u001b[0;32m----> 1\u001b[0;31m \u001b[0;32mfrom\u001b[0m \u001b[0mtorch\u001b[0m\u001b[0;34m.\u001b[0m\u001b[0mdistributions\u001b[0m \u001b[0;32mimport\u001b[0m \u001b[0mnormal\u001b[0m\u001b[0;34m\u001b[0m\u001b[0m\n\u001b[0m\u001b[1;32m      2\u001b[0m \u001b[0;34m\u001b[0m\u001b[0m\n\u001b[1;32m      3\u001b[0m \u001b[0mnorm_dist\u001b[0m \u001b[0;34m=\u001b[0m \u001b[0mNormal\u001b[0m\u001b[0;34m(\u001b[0m\u001b[0mtorch\u001b[0m\u001b[0;34m.\u001b[0m\u001b[0mTensor\u001b[0m\u001b[0;34m(\u001b[0m\u001b[0;34m[\u001b[0m\u001b[0;36m1.0\u001b[0m\u001b[0;34m]\u001b[0m\u001b[0;34m)\u001b[0m\u001b[0;34m,\u001b[0m \u001b[0mtorch\u001b[0m\u001b[0;34m.\u001b[0m\u001b[0mTensor\u001b[0m\u001b[0;34m(\u001b[0m\u001b[0;34m[\u001b[0m\u001b[0;36m0.1\u001b[0m\u001b[0;34m]\u001b[0m\u001b[0;34m)\u001b[0m\u001b[0;34m)\u001b[0m\u001b[0;34m\u001b[0m\u001b[0m\n",
      "\u001b[0;31mImportError\u001b[0m: cannot import name 'normal'"
     ]
    }
   ],
   "source": [
    "from torch.distributions import Normal\n",
    "\n",
    "norm_dist = Normal(torch.Tensor([1.0]), torch.Tensor([0.1]))"
   ]
  },
  {
   "cell_type": "code",
   "execution_count": 44,
   "metadata": {},
   "outputs": [
    {
     "ename": "TypeError",
     "evalue": "torch.normal received an invalid combination of arguments - got (float, float), but expected one of:\n * (torch.FloatTensor std)\n * (torch.FloatTensor means)\n * (float mean, torch.FloatTensor std)\n      didn't match because some of the arguments have invalid types: (\u001b[32;1mfloat\u001b[0m, \u001b[31;1mfloat\u001b[0m)\n * (torch.FloatTensor means, float std)\n      didn't match because some of the arguments have invalid types: (\u001b[31;1mfloat\u001b[0m, \u001b[32;1mfloat\u001b[0m)\n * (torch.FloatTensor means, torch.FloatTensor std)\n      didn't match because some of the arguments have invalid types: (\u001b[31;1mfloat\u001b[0m, \u001b[31;1mfloat\u001b[0m)\n * (torch.Generator generator, torch.FloatTensor std)\n      didn't match because some of the arguments have invalid types: (\u001b[31;1mfloat\u001b[0m, \u001b[31;1mfloat\u001b[0m)\n * (torch.Generator generator, torch.FloatTensor means)\n      didn't match because some of the arguments have invalid types: (\u001b[31;1mfloat\u001b[0m, \u001b[31;1mfloat\u001b[0m)\n * (torch.Generator generator, float mean, torch.FloatTensor std)\n * (torch.Generator generator, torch.FloatTensor means, float std)\n * (torch.Generator generator, torch.FloatTensor means, torch.FloatTensor std)\n",
     "output_type": "error",
     "traceback": [
      "\u001b[0;31m---------------------------------------------------------------------------\u001b[0m",
      "\u001b[0;31mTypeError\u001b[0m                                 Traceback (most recent call last)",
      "\u001b[0;32m<ipython-input-44-564b1dfd4204>\u001b[0m in \u001b[0;36m<module>\u001b[0;34m()\u001b[0m\n\u001b[0;32m----> 1\u001b[0;31m \u001b[0mnorm_dist\u001b[0m\u001b[0;34m.\u001b[0m\u001b[0msample\u001b[0m\u001b[0;34m(\u001b[0m\u001b[0;34m)\u001b[0m\u001b[0;34m\u001b[0m\u001b[0m\n\u001b[0m",
      "\u001b[0;32m~/Documents/Environments/ml/lib/python3.6/site-packages/torch/distributions.py\u001b[0m in \u001b[0;36msample\u001b[0;34m(self)\u001b[0m\n\u001b[1;32m    176\u001b[0m \u001b[0;34m\u001b[0m\u001b[0m\n\u001b[1;32m    177\u001b[0m     \u001b[0;32mdef\u001b[0m \u001b[0msample\u001b[0m\u001b[0;34m(\u001b[0m\u001b[0mself\u001b[0m\u001b[0;34m)\u001b[0m\u001b[0;34m:\u001b[0m\u001b[0;34m\u001b[0m\u001b[0m\n\u001b[0;32m--> 178\u001b[0;31m         \u001b[0;32mreturn\u001b[0m \u001b[0mtorch\u001b[0m\u001b[0;34m.\u001b[0m\u001b[0mnormal\u001b[0m\u001b[0;34m(\u001b[0m\u001b[0mself\u001b[0m\u001b[0;34m.\u001b[0m\u001b[0mmean\u001b[0m\u001b[0;34m,\u001b[0m \u001b[0mself\u001b[0m\u001b[0;34m.\u001b[0m\u001b[0mstd\u001b[0m\u001b[0;34m)\u001b[0m\u001b[0;34m\u001b[0m\u001b[0m\n\u001b[0m\u001b[1;32m    179\u001b[0m \u001b[0;34m\u001b[0m\u001b[0m\n\u001b[1;32m    180\u001b[0m     \u001b[0;32mdef\u001b[0m \u001b[0msample_n\u001b[0m\u001b[0;34m(\u001b[0m\u001b[0mself\u001b[0m\u001b[0;34m,\u001b[0m \u001b[0mn\u001b[0m\u001b[0;34m)\u001b[0m\u001b[0;34m:\u001b[0m\u001b[0;34m\u001b[0m\u001b[0m\n",
      "\u001b[0;31mTypeError\u001b[0m: torch.normal received an invalid combination of arguments - got (float, float), but expected one of:\n * (torch.FloatTensor std)\n * (torch.FloatTensor means)\n * (float mean, torch.FloatTensor std)\n      didn't match because some of the arguments have invalid types: (\u001b[32;1mfloat\u001b[0m, \u001b[31;1mfloat\u001b[0m)\n * (torch.FloatTensor means, float std)\n      didn't match because some of the arguments have invalid types: (\u001b[31;1mfloat\u001b[0m, \u001b[32;1mfloat\u001b[0m)\n * (torch.FloatTensor means, torch.FloatTensor std)\n      didn't match because some of the arguments have invalid types: (\u001b[31;1mfloat\u001b[0m, \u001b[31;1mfloat\u001b[0m)\n * (torch.Generator generator, torch.FloatTensor std)\n      didn't match because some of the arguments have invalid types: (\u001b[31;1mfloat\u001b[0m, \u001b[31;1mfloat\u001b[0m)\n * (torch.Generator generator, torch.FloatTensor means)\n      didn't match because some of the arguments have invalid types: (\u001b[31;1mfloat\u001b[0m, \u001b[31;1mfloat\u001b[0m)\n * (torch.Generator generator, float mean, torch.FloatTensor std)\n * (torch.Generator generator, torch.FloatTensor means, float std)\n * (torch.Generator generator, torch.FloatTensor means, torch.FloatTensor std)\n"
     ]
    }
   ],
   "source": [
    "norm_dist.sample()"
   ]
  },
  {
   "cell_type": "code",
   "execution_count": null,
   "metadata": {},
   "outputs": [],
   "source": []
  }
 ],
 "metadata": {
  "kernelspec": {
   "display_name": "ml",
   "language": "python",
   "name": "ml"
  },
  "language_info": {
   "codemirror_mode": {
    "name": "ipython",
    "version": 3
   },
   "file_extension": ".py",
   "mimetype": "text/x-python",
   "name": "python",
   "nbconvert_exporter": "python",
   "pygments_lexer": "ipython3",
   "version": "3.6.4"
  }
 },
 "nbformat": 4,
 "nbformat_minor": 2
}
